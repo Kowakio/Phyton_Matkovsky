{
 "cells": [
  {
   "cell_type": "markdown",
   "id": "b5beb4ef",
   "metadata": {},
   "source": [
    "author: Vladyslav Matkovskyi, published: November 03, 2023, Lab:№4"
   ]
  },
  {
   "cell_type": "markdown",
   "id": "1e80254d",
   "metadata": {},
   "source": [
    "# Лабораторна робота №4. Логічні значення. Умовне виконання. Цикли"
   ]
  },
  {
   "cell_type": "markdown",
   "id": "3e68c9e5",
   "metadata": {},
   "source": [
    "__Мета:__ освоїти роботу з логічними змінними, операторами розгалуження та операторами циклів"
   ]
  },
  {
   "cell_type": "markdown",
   "id": "841e3a72",
   "metadata": {},
   "source": [
    "# Хід роботи"
   ]
  },
  {
   "cell_type": "markdown",
   "id": "b3df2a2e",
   "metadata": {},
   "source": [
    "1.Використовуючи один з операторів порівняння в Python, напишіть просту дворядкову програму, яка приймає як вхідні дані параметр n, який є цілим числом, і друкує `False`, якщо n менше 100 і `True`, якщо n більше або дорівнює 100."
   ]
  },
  {
   "cell_type": "code",
   "execution_count": 2,
   "id": "52db7779",
   "metadata": {},
   "outputs": [
    {
     "name": "stdout",
     "output_type": "stream",
     "text": [
      "Enter an integer n: 4\n",
      "False\n"
     ]
    }
   ],
   "source": [
    "n = int(input(\"Enter an integer n: \"))\n",
    "result = n >= 100\n",
    "print(result)\n"
   ]
  },
  {
   "cell_type": "markdown",
   "id": "70f6bbed",
   "metadata": {},
   "source": [
    "2.Написати програму визначення найбільшого з двох дійсних чисел, використовуючи констуркцію `if-else`."
   ]
  },
  {
   "cell_type": "code",
   "execution_count": 3,
   "id": "c03de97c",
   "metadata": {},
   "outputs": [
    {
     "name": "stdout",
     "output_type": "stream",
     "text": [
      "Enter the first real number: 3\n",
      "Enter the second real number: 9\n",
      "The maximum number is:  9.0\n"
     ]
    }
   ],
   "source": [
    "number1 = float(input(\"Enter the first real number: \"))\n",
    "number2 = float(input(\"Enter the second real number: \"))\n",
    "\n",
    "if number1 > number2:\n",
    "    max_number = number1\n",
    "else:\n",
    "    max_number = number2\n",
    "\n",
    "print(\"The maximum number is: \", max_number)\n"
   ]
  },
  {
   "cell_type": "markdown",
   "id": "56ceb87d",
   "metadata": {},
   "source": [
    "3.Напишіть програму, яка використовує концепцію умовного виконання, приймає рядок як вхідні дані та: виводить на екран пропозицію “Yes - Spathiphyllum is the best plant ever!”, якщо введений рядок - “Spathiphyllum” (верхній регістр)\n",
    "друкує “No, I want a big Spathiphyllum!”, якщо введений рядок - “spathiphyllum” (у нижньому регістрі) виводить “Spathiphyllum! Not [input]!” в іншому випадку."
   ]
  },
  {
   "cell_type": "code",
   "execution_count": 5,
   "id": "5dc24a28",
   "metadata": {},
   "outputs": [
    {
     "name": "stdout",
     "output_type": "stream",
     "text": [
      "Spathiphyllum\n",
      "Yes - Spathiphyllum is the best plant ever\n"
     ]
    }
   ],
   "source": [
    "user_input = input()\n",
    "\n",
    "if user_input == \"Spathiphyllum\":\n",
    "    print(\"Yes - Spathiphyllum is the best plant ever\")\n",
    "elif user_input == \"spathiphyllum\":\n",
    "    print(\"No, I want a big Spathiphyllum!\")\n",
    "else:\n",
    "    print(f\"Spathiphyllum! Not {user_input}!\")"
   ]
  },
  {
   "cell_type": "markdown",
   "id": "41e4d89b",
   "metadata": {},
   "source": [
    "4.Написати калькулятор податків:"
   ]
  },
  {
   "cell_type": "code",
   "execution_count": 7,
   "id": "20c1d75d",
   "metadata": {},
   "outputs": [
    {
     "name": "stdout",
     "output_type": "stream",
     "text": [
      "Enter the annual income: 10000\n",
      "The tax is: 1244 thalers\n"
     ]
    }
   ],
   "source": [
    "income = float(input(\"Enter the annual income: \"))\n",
    "if income <= 85528:\n",
    "    tax = income * 0.18 - 556.02\n",
    "    if tax < 0:\n",
    "        tax = 0\n",
    "else:\n",
    "    tax = 14839.02 + (income - 85528) * 0.32\n",
    "tax = round(tax)\n",
    "print(\"The tax is:\", tax, \"thalers\")\n"
   ]
  },
  {
   "cell_type": "markdown",
   "id": "6fde16bf",
   "metadata": {},
   "source": [
    "5.Написати програму для визначення типу року(високосного або звичайного)."
   ]
  },
  {
   "cell_type": "code",
   "execution_count": 4,
   "id": "2cee09ea",
   "metadata": {},
   "outputs": [
    {
     "name": "stdout",
     "output_type": "stream",
     "text": [
      "Enter a year: 2001\n",
      "2001 is a common year.\n"
     ]
    }
   ],
   "source": [
    "year = int(input(\"Enter a year: \"))\n",
    "if (year % 4 == 0 and year % 100 != 0) or (year % 400 == 0):\n",
    "    print(f\"{year} is a leap year.\")\n",
    "else:\n",
    "    print(f\"{year} is a common year.\")\n",
    "\n"
   ]
  },
  {
   "cell_type": "markdown",
   "id": "c4cc1750",
   "metadata": {},
   "source": [
    "6.Написати програму яка попросить користувача ввести ціле число.Використовувавши цикл while.Перевірити, чи включає введене користувачем число з числом, вибраним фокусником. Якщо число, обране користувачем, відрізняється від секретного числа чарівника, користувач повинен побачити повідомлення \"Ха-ха! Ви застрягли у моїй петлі!\" і отримати запит на повторне введення числа. Якщо число, введене користувачем, співпадає з числом, вибраним фокусником, число має бути надруковане на екрані, і фокусник повинен вимовити наступне слово: «Молодець, магле! Тепер ти вільний»."
   ]
  },
  {
   "cell_type": "code",
   "execution_count": 5,
   "id": "1b7c09ad",
   "metadata": {},
   "outputs": [
    {
     "name": "stdout",
     "output_type": "stream",
     "text": [
      "Enter an integer: 45\n",
      "Ha-ha! You're trapped in my loop! Try again.\n",
      "Enter an integer: 42\n",
      "Well done, magician! You are free now.\n"
     ]
    }
   ],
   "source": [
    "magician_secret_number = 42\n",
    "\n",
    "while True:\n",
    "    user_input_number = int(input(\"Enter an integer: \"))\n",
    "    if user_input_number == magician_secret_number:\n",
    "        print(\"Well done, magician! You are free now.\")\n",
    "        break\n",
    "    else:\n",
    "        print(\"Ha-ha! You're trapped in my loop! Try again.\")\n",
    "\n"
   ]
  },
  {
   "cell_type": "markdown",
   "id": "1d173373",
   "metadata": {},
   "source": [
    "7.Напишіть програму, яка використовує цикл for для «рахунку Міссісіпі» до п’яти. Порахувавши до п’яти, програма повинна вивести на екран фінальне повідомлення \"Ready or not, here I come!\""
   ]
  },
  {
   "cell_type": "code",
   "execution_count": 15,
   "id": "0eb43179",
   "metadata": {},
   "outputs": [
    {
     "name": "stdout",
     "output_type": "stream",
     "text": [
      "Міссісіпі 1\n",
      "Міссісіпі 2\n",
      "Міссісіпі 3\n",
      "Міссісіпі 4\n",
      "Міссісіпі 5\n",
      "Ready or not, here I come!\n"
     ]
    }
   ],
   "source": [
    "import time\n",
    "\n",
    "for i in range(1, 6):\n",
    "    print(\"Міссісіпі\", i)\n",
    "    time.sleep(1)\n",
    "\n",
    "print(\"Ready or not, here I come!\")"
   ]
  },
  {
   "cell_type": "markdown",
   "id": "de9c7ec4",
   "metadata": {},
   "source": [
    "8.Розробте програму, яка використовує цикл while і постійно просить користувача ввести слово, якщо користувач не вводить \"chupacabra\" як секретне вихідне слово, і в цьому випадку повідомлення \"You've successfully left the loop.\" має бути виведений на екран, а цикл має завершитись."
   ]
  },
  {
   "cell_type": "code",
   "execution_count": 6,
   "id": "3e376c55",
   "metadata": {},
   "outputs": [
    {
     "name": "stdout",
     "output_type": "stream",
     "text": [
      "Enter a word: вівіві\n",
      "Enter a word: chupacabra\n",
      "You've successfully left the loop.\n"
     ]
    }
   ],
   "source": [
    "while True:\n",
    "    user_input = input(\"Enter a word: \")\n",
    "\n",
    "    if user_input == \"chupacabra\":\n",
    "        print(\"You've successfully left the loop.\")\n",
    "        break\n"
   ]
  },
  {
   "cell_type": "markdown",
   "id": "8947f147",
   "metadata": {},
   "source": [
    "9.Створити програму пожирача голосних."
   ]
  },
  {
   "cell_type": "code",
   "execution_count": 7,
   "id": "78cf719a",
   "metadata": {},
   "outputs": [
    {
     "name": "stdout",
     "output_type": "stream",
     "text": [
      "Enter a word: xsdscvrtyyiiiqaaazzz\n",
      "X\n",
      "S\n",
      "D\n",
      "S\n",
      "C\n",
      "V\n",
      "R\n",
      "T\n",
      "Y\n",
      "Y\n",
      "Q\n",
      "Z\n",
      "Z\n",
      "Z\n"
     ]
    }
   ],
   "source": [
    "user_word = input(\"Enter a word: \")\n",
    "user_word = user_word.upper()\n",
    "\n",
    "for letter in user_word:\n",
    "    if letter in \"AEIOU\":\n",
    "        continue\n",
    "    print(letter)\n"
   ]
  },
  {
   "cell_type": "markdown",
   "id": "3e5466fe",
   "metadata": {},
   "source": [
    "10.Ваше завдання тут ще особливіше, ніж раніше: Ви повинні переробити (потворного) пожирача голосних із попереднього завдання і створити кращого, покращеного (красивого) пожирача голосних."
   ]
  },
  {
   "cell_type": "code",
   "execution_count": 8,
   "id": "e3cb91ba",
   "metadata": {},
   "outputs": [
    {
     "name": "stdout",
     "output_type": "stream",
     "text": [
      "Enter a word: cvfeerttyuoionbaaa\n",
      "CVFRTTYNB\n"
     ]
    }
   ],
   "source": [
    "user_word = input(\"Enter a word: \")\n",
    "user_word = user_word.upper()\n",
    "\n",
    "word_without_vowels = \"\"\n",
    "\n",
    "for letter in user_word:\n",
    "    if letter in \"AEIOU\":\n",
    "        continue\n",
    "    word_without_vowels += letter\n",
    "\n",
    "print(word_without_vowels)\n"
   ]
  },
  {
   "cell_type": "markdown",
   "id": "33a219d6",
   "metadata": {},
   "source": [
    "11.Написати програму, яка зчитує кількість блоків, що є у будівельників, та виводить висоту піраміди, яку можна побудувати з цих блоків."
   ]
  },
  {
   "cell_type": "code",
   "execution_count": 9,
   "id": "f38fb5d7",
   "metadata": {},
   "outputs": [
    {
     "name": "stdout",
     "output_type": "stream",
     "text": [
      "Enter the number of available blocks: 30\n",
      "Maximum height of the pyramid: 7\n"
     ]
    }
   ],
   "source": [
    "blocks_available = int(input(\"Enter the number of available blocks: \"))\n",
    "\n",
    "height = 0\n",
    "\n",
    "while blocks_available >= height + 1:\n",
    "    height += 1\n",
    "    blocks_available -= height\n",
    "\n",
    "print(\"Maximum height of the pyramid:\", height)\n"
   ]
  },
  {
   "cell_type": "markdown",
   "id": "776f4b02",
   "metadata": {},
   "source": [
    "12.Напишіть програму, яка зчитує одне натуральне число і виконує вказані вище кроки до тих пір, поки c0 залишається відмінним від 1. Ми також хочемо, щоб ви підрахували кроки, необхідні для досягнення мети. Ваш код також повинен виводити усі проміжні значення c0."
   ]
  },
  {
   "cell_type": "code",
   "execution_count": 10,
   "id": "69683a5c",
   "metadata": {},
   "outputs": [
    {
     "name": "stdout",
     "output_type": "stream",
     "text": [
      "Enter a natural number c0: 15\n",
      "46\n",
      "23\n",
      "70\n",
      "35\n",
      "106\n",
      "53\n",
      "160\n",
      "80\n",
      "40\n",
      "20\n",
      "10\n",
      "5\n",
      "16\n",
      "8\n",
      "4\n",
      "2\n",
      "1\n",
      "To reach 1 from the number 15, it took 17 steps.\n"
     ]
    }
   ],
   "source": [
    "c0 = int(input(\"Enter a natural number c0: \"))\n",
    "initial_c0 = c0\n",
    "step_count = 0\n",
    "\n",
    "while c0 != 1:\n",
    "    if c0 % 2 == 0:\n",
    "        c0 //= 2\n",
    "    else:\n",
    "        c0 = 3 * c0 + 1\n",
    "    print(c0)\n",
    "    step_count += 1\n",
    "\n",
    "print(f\"To reach 1 from the number {initial_c0}, it took {step_count} steps.\")\n",
    "\n"
   ]
  },
  {
   "cell_type": "markdown",
   "id": "7109162a",
   "metadata": {},
   "source": [
    "## Контрольні запитання"
   ]
  },
  {
   "cell_type": "markdown",
   "id": "945ab702",
   "metadata": {},
   "source": [
    "1.Який вивод наступного фрагмента?"
   ]
  },
  {
   "cell_type": "code",
   "execution_count": 23,
   "id": "ae83fbd8",
   "metadata": {},
   "outputs": [
    {
     "name": "stdout",
     "output_type": "stream",
     "text": [
      "False\n",
      "True\n"
     ]
    }
   ],
   "source": [
    "x=5\n",
    "y=10\n",
    "z=8\n",
    "print(x>y)\n",
    "print(y>z)"
   ]
  },
  {
   "cell_type": "markdown",
   "id": "427f06d8",
   "metadata": {},
   "source": [
    "2.Який вивод наступного фрагмента?"
   ]
  },
  {
   "cell_type": "code",
   "execution_count": 24,
   "id": "aff9bb58",
   "metadata": {},
   "outputs": [
    {
     "name": "stdout",
     "output_type": "stream",
     "text": [
      "False\n",
      "True\n"
     ]
    }
   ],
   "source": [
    "x,y,z = 5,10,8\n",
    "print(x>z)\n",
    "print((y-5)==x)"
   ]
  },
  {
   "cell_type": "markdown",
   "id": "34433df2",
   "metadata": {},
   "source": [
    "3.Який вивод наступного фрагмента?"
   ]
  },
  {
   "cell_type": "code",
   "execution_count": 25,
   "id": "f0d17325",
   "metadata": {},
   "outputs": [
    {
     "name": "stdout",
     "output_type": "stream",
     "text": [
      "True\n",
      "False\n"
     ]
    }
   ],
   "source": [
    "x,y,z = 5,10,8\n",
    "x,y,z = z,y,x\n",
    "print(x>z)\n",
    "print((y-5)==x)"
   ]
  },
  {
   "cell_type": "markdown",
   "id": "230f3838",
   "metadata": {},
   "source": [
    "## References"
   ]
  },
  {
   "cell_type": "markdown",
   "id": "4323e0ac",
   "metadata": {},
   "source": [
    "1.https://github.com/Kowakio/Phyton_Matkovsky - посилання на GitHub-репозиторій"
   ]
  }
 ],
 "metadata": {
  "kernelspec": {
   "display_name": "Python 3 (ipykernel)",
   "language": "python",
   "name": "python3"
  },
  "language_info": {
   "codemirror_mode": {
    "name": "ipython",
    "version": 3
   },
   "file_extension": ".py",
   "mimetype": "text/x-python",
   "name": "python",
   "nbconvert_exporter": "python",
   "pygments_lexer": "ipython3",
   "version": "3.11.5"
  }
 },
 "nbformat": 4,
 "nbformat_minor": 5
}
